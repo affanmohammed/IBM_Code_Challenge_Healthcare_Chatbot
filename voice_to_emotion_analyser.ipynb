{
  "nbformat": 4,
  "nbformat_minor": 0,
  "metadata": {
    "kernelspec": {
      "display_name": "Python 3",
      "language": "python",
      "name": "python3"
    },
    "language_info": {
      "codemirror_mode": {
        "name": "ipython",
        "version": 3
      },
      "file_extension": ".py",
      "mimetype": "text/x-python",
      "name": "python",
      "nbconvert_exporter": "python",
      "pygments_lexer": "ipython3",
      "version": "3.8.5"
    },
    "colab": {
      "name": "SVM_Text_To_Emotion.ipynb",
      "provenance": [],
      "collapsed_sections": []
    }
  },
  "cells": [
    {
      "cell_type": "code",
      "metadata": {
        "id": "G_K59_9SfNJD"
      },
      "source": [
        "import pandas as pd\n",
        "import numpy as np\n",
        "\n",
        "# text preprocessing\n",
        "from nltk import word_tokenize\n",
        "from nltk.stem import PorterStemmer\n",
        "from nltk.corpus import stopwords\n",
        "import re\n",
        "\n",
        "# plots and metrics\n",
        "import matplotlib.pyplot as plt\n",
        "from sklearn.metrics import accuracy_score, f1_score, confusion_matrix\n",
        "\n",
        "# feature extraction / vectorization\n",
        "from sklearn.feature_extraction.text import CountVectorizer, TfidfVectorizer\n",
        "\n",
        "# classifiers\n",
        "from sklearn.naive_bayes import MultinomialNB\n",
        "from sklearn.linear_model import LogisticRegression, SGDClassifier\n",
        "from sklearn.ensemble import RandomForestClassifier\n",
        "from sklearn.svm import LinearSVC\n",
        "from sklearn.pipeline import Pipeline\n",
        "\n",
        "# save and load a file\n",
        "import pickle"
      ],
      "execution_count": 28,
      "outputs": []
    },
    {
      "cell_type": "markdown",
      "metadata": {
        "id": "4XAC8m1afNJL"
      },
      "source": [
        "## 1. Import Dataset\n",
        "\n",
        "Text-Emotion Dataset was split into training 70% and testing 30%\n"
      ]
    },
    {
      "cell_type": "code",
      "metadata": {
        "colab": {
          "base_uri": "https://localhost:8080/",
          "height": 340
        },
        "id": "cV6j-KDPfNJN",
        "outputId": "cf940c10-2a2c-441e-a806-0f8cc5961ca0"
      },
      "source": [
        "df_train = pd.read_csv('/content/data_train.csv')\n",
        "df_test = pd.read_csv('/content/data_test.csv')\n",
        "\n",
        "X_train = df_train.Text\n",
        "X_test = df_test.Text\n",
        "\n",
        "y_train = df_train.Emotion\n",
        "y_test = df_test.Emotion\n",
        "\n",
        "class_names = ['joy', 'sadness', 'anger', 'neutral', 'fear']\n",
        "data = pd.concat([df_train, df_test])\n",
        "\n",
        "print('size of training set: %s' % (len(df_train['Text'])))\n",
        "print('size of validation set: %s' % (len(df_test['Text'])))\n",
        "print(data.Emotion.value_counts())\n",
        "\n",
        "data.head()"
      ],
      "execution_count": 29,
      "outputs": [
        {
          "output_type": "stream",
          "name": "stdout",
          "text": [
            "size of training set: 7934\n",
            "size of validation set: 3393\n",
            "joy        2326\n",
            "sadness    2317\n",
            "anger      2259\n",
            "neutral    2254\n",
            "fear       2171\n",
            "Name: Emotion, dtype: int64\n"
          ]
        },
        {
          "output_type": "execute_result",
          "data": {
            "text/html": [
              "<div>\n",
              "<style scoped>\n",
              "    .dataframe tbody tr th:only-of-type {\n",
              "        vertical-align: middle;\n",
              "    }\n",
              "\n",
              "    .dataframe tbody tr th {\n",
              "        vertical-align: top;\n",
              "    }\n",
              "\n",
              "    .dataframe thead th {\n",
              "        text-align: right;\n",
              "    }\n",
              "</style>\n",
              "<table border=\"1\" class=\"dataframe\">\n",
              "  <thead>\n",
              "    <tr style=\"text-align: right;\">\n",
              "      <th></th>\n",
              "      <th>Emotion</th>\n",
              "      <th>Text</th>\n",
              "    </tr>\n",
              "  </thead>\n",
              "  <tbody>\n",
              "    <tr>\n",
              "      <th>0</th>\n",
              "      <td>neutral</td>\n",
              "      <td>There are tons of other paintings that I thin...</td>\n",
              "    </tr>\n",
              "    <tr>\n",
              "      <th>1</th>\n",
              "      <td>sadness</td>\n",
              "      <td>Yet the dog had grown old and less capable , a...</td>\n",
              "    </tr>\n",
              "    <tr>\n",
              "      <th>2</th>\n",
              "      <td>fear</td>\n",
              "      <td>When I get into the tube or the train without ...</td>\n",
              "    </tr>\n",
              "    <tr>\n",
              "      <th>3</th>\n",
              "      <td>fear</td>\n",
              "      <td>This last may be a source of considerable disq...</td>\n",
              "    </tr>\n",
              "    <tr>\n",
              "      <th>4</th>\n",
              "      <td>anger</td>\n",
              "      <td>She disliked the intimacy he showed towards so...</td>\n",
              "    </tr>\n",
              "  </tbody>\n",
              "</table>\n",
              "</div>"
            ],
            "text/plain": [
              "   Emotion                                               Text\n",
              "0  neutral   There are tons of other paintings that I thin...\n",
              "1  sadness  Yet the dog had grown old and less capable , a...\n",
              "2     fear  When I get into the tube or the train without ...\n",
              "3     fear  This last may be a source of considerable disq...\n",
              "4    anger  She disliked the intimacy he showed towards so..."
            ]
          },
          "metadata": {},
          "execution_count": 29
        }
      ]
    },
    {
      "cell_type": "markdown",
      "metadata": {
        "id": "R_gywp65fNJT"
      },
      "source": [
        "### *Plotting confusion matrix for later evaluation "
      ]
    },
    {
      "cell_type": "code",
      "metadata": {
        "id": "YkHGFTqCfNJY"
      },
      "source": [
        "def plot_confusion_matrix(y_true, y_pred, classes,\n",
        "                          normalize=False,\n",
        "                          title=None,\n",
        "                          cmap=plt.cm.Blues):\n",
        "    '''\n",
        "    This function prints and plots the confusion matrix.\n",
        "    Normalization can be applied by setting `normalize=True`.\n",
        "    '''\n",
        "    if not title:\n",
        "        if normalize:\n",
        "            title = 'Normalized confusion matrix'\n",
        "        else:\n",
        "            title = 'Confusion matrix, without normalization'\n",
        "\n",
        "    # Compute confusion matrix\n",
        "    cm = confusion_matrix(y_true, y_pred)\n",
        "\n",
        "    if normalize:\n",
        "        cm = cm.astype('float') / cm.sum(axis=1)[:, np.newaxis]\n",
        "\n",
        "    fig, ax = plt.subplots()\n",
        "    \n",
        "    # Set size\n",
        "    fig.set_size_inches(12.5, 7.5)\n",
        "    im = ax.imshow(cm, interpolation='nearest', cmap=cmap)\n",
        "    ax.figure.colorbar(im, ax=ax)\n",
        "    ax.grid(False)\n",
        "    \n",
        "    # We want to show all ticks...\n",
        "    ax.set(xticks=np.arange(cm.shape[1]),\n",
        "           yticks=np.arange(cm.shape[0]),\n",
        "           # ... and label them with the respective list entries\n",
        "           xticklabels=classes, yticklabels=classes,\n",
        "           title=title,\n",
        "           ylabel='True label',\n",
        "           xlabel='Predicted label')\n",
        "\n",
        "    # Rotate the tick labels and set their alignment.\n",
        "    plt.setp(ax.get_xticklabels(), rotation=45, ha=\"right\",\n",
        "             rotation_mode=\"anchor\")\n",
        "\n",
        "    # Loop over data dimensions and create text annotations.\n",
        "    fmt = '.2f' if normalize else 'd'\n",
        "    thresh = cm.max() / 2.\n",
        "    for i in range(cm.shape[0]):\n",
        "        for j in range(cm.shape[1]):\n",
        "            ax.text(j, i, format(cm[i, j], fmt),\n",
        "                    ha=\"center\", va=\"center\",\n",
        "                    color=\"white\" if cm[i, j] > thresh else \"black\")\n",
        "    fig.tight_layout()\n",
        "    return ax"
      ],
      "execution_count": 30,
      "outputs": []
    },
    {
      "cell_type": "markdown",
      "metadata": {
        "id": "Fnk9sVNbfNJj"
      },
      "source": [
        "## 2. Text Preprocessing\n",
        "\n",
        "Here are some preprocessing steps to consider:\n",
        "* Removing noise: html markups, urls, non-ascii symbols, trailing whitespace etc.\n",
        "* Removing punctuation\n",
        "* Normalizing emoticons\n",
        "* Negation handling\n",
        "* Tokenization: split text into word tokens\n",
        "* Stopword removal\n",
        "* Stemming or lemmatization\n",
        "\n",
        "However, most of these steps did not improve our classification results. Since our data was mostly taken from written dialogs it was almost ready to use."
      ]
    },
    {
      "cell_type": "code",
      "metadata": {
        "id": "XlCfpGWofNJo"
      },
      "source": [
        "def preprocess_and_tokenize(data):    \n",
        "\n",
        "    #remove html markup\n",
        "    data = re.sub(\"(<.*?>)\", \"\", data)\n",
        "\n",
        "    #remove urls\n",
        "    data = re.sub(r'http\\S+', '', data)\n",
        "    \n",
        "    #remove hashtags and @names\n",
        "    data= re.sub(r\"(#[\\d\\w\\.]+)\", '', data)\n",
        "    data= re.sub(r\"(@[\\d\\w\\.]+)\", '', data)\n",
        "\n",
        "    #remove punctuation and non-ascii digits\n",
        "    data = re.sub(\"(\\\\W|\\\\d)\", \" \", data)\n",
        "    \n",
        "    #remove whitespace\n",
        "    data = data.strip()\n",
        "    \n",
        "    # tokenization with nltk\n",
        "    data = word_tokenize(data)\n",
        "    \n",
        "    # stemming with nltk\n",
        "    porter = PorterStemmer()\n",
        "    stem_data = [porter.stem(word) for word in data]\n",
        "        \n",
        "    return stem_data"
      ],
      "execution_count": 31,
      "outputs": []
    },
    {
      "cell_type": "code",
      "metadata": {
        "colab": {
          "base_uri": "https://localhost:8080/"
        },
        "id": "YV2OzPANhOI4",
        "outputId": "307a4c69-b163-4a88-a124-63defaaad864"
      },
      "source": [
        "import nltk\n",
        "nltk.download('punkt')"
      ],
      "execution_count": 32,
      "outputs": [
        {
          "output_type": "stream",
          "name": "stdout",
          "text": [
            "[nltk_data] Downloading package punkt to /root/nltk_data...\n",
            "[nltk_data]   Package punkt is already up-to-date!\n"
          ]
        },
        {
          "output_type": "execute_result",
          "data": {
            "text/plain": [
              "True"
            ]
          },
          "metadata": {},
          "execution_count": 32
        }
      ]
    },
    {
      "cell_type": "markdown",
      "metadata": {
        "id": "3wYRHhhTfNJq"
      },
      "source": [
        "## 3. Text Representation\n",
        "\n",
        "Vectorizing text using Term Frequency technique (Term Frequency(TF) — Inverse Dense Frequency(IDF))\n",
        "* Tekenize with our preprocess_and_tokenize\n",
        "* Find it’s TF = (Number of repetitions of word in a document) / (# of words in a document)\n",
        "* IDF = log(# of documents / # of documents containing the word)"
      ]
    },
    {
      "cell_type": "code",
      "metadata": {
        "id": "tnrh5PlFfNJw"
      },
      "source": [
        "# TFIDF, unigrams and bigrams\n",
        "vect = TfidfVectorizer(tokenizer=preprocess_and_tokenize, sublinear_tf=True, norm='l2', ngram_range=(1, 2))\n",
        "\n",
        "# fit on our complete corpus\n",
        "vect.fit_transform(data.Text)\n",
        "\n",
        "# transform testing and training datasets to vectors\n",
        "X_train_vect = vect.transform(X_train)\n",
        "X_test_vect = vect.transform(X_test)"
      ],
      "execution_count": 33,
      "outputs": []
    },
    {
      "cell_type": "markdown",
      "metadata": {
        "id": "F7-kJ7PdfNJz"
      },
      "source": [
        "## 4. Classifiers\n",
        "\n",
        "###  Naive Bayes"
      ]
    },
    {
      "cell_type": "code",
      "metadata": {
        "colab": {
          "base_uri": "https://localhost:8080/",
          "height": 719
        },
        "id": "S-tkIXagfNJ1",
        "outputId": "ed340938-7bf2-4234-ca44-00050176fd32"
      },
      "source": [
        "nb = MultinomialNB()\n",
        "\n",
        "nb.fit(X_train_vect, y_train)\n",
        "\n",
        "ynb_pred = nb.predict(X_test_vect)\n",
        "\n",
        "from sklearn.metrics import accuracy_score, f1_score, confusion_matrix\n",
        "\n",
        "print(\"Accuracy: {:.2f}%\".format(accuracy_score(y_test, ynb_pred) * 100))\n",
        "print(\"\\nF1 Score: {:.2f}\".format(f1_score(y_test, ynb_pred, average='micro') * 100))\n",
        "print(\"\\nCOnfusion Matrix:\\n\", confusion_matrix(y_test, ynb_pred))\n",
        "\n",
        "# Plot normalized confusion matrix\n",
        "plot_confusion_matrix(y_test, ynb_pred, classes=class_names, normalize=True, title='Normalized confusion matrix')\n",
        "plt.show()"
      ],
      "execution_count": 34,
      "outputs": [
        {
          "output_type": "stream",
          "name": "stdout",
          "text": [
            "Accuracy: 67.02%\n",
            "\n",
            "F1 Score: 67.02\n",
            "\n",
            "COnfusion Matrix:\n",
            " [[469  32  44  28 120]\n",
            " [ 73 420  55  16 115]\n",
            " [ 56  18 475  68  90]\n",
            " [ 61  20  76 385  96]\n",
            " [ 68  20  48  15 525]]\n"
          ]
        },
        {
          "output_type": "display_data",
          "data": {
            "image/png": "[encoded data removed]",
            "text/plain": [
              "<Figure size 900x540 with 2 Axes>"
            ]
          },
          "metadata": {
            "needs_background": "light"
          }
        }
      ]
    },
    {
      "cell_type": "markdown",
      "metadata": {
        "id": "BKV1EPmSfNJ3"
      },
      "source": [
        "###  Random Forrest"
      ]
    },
    {
      "cell_type": "code",
      "metadata": {
        "colab": {
          "base_uri": "https://localhost:8080/",
          "height": 719
        },
        "id": "PedIIPw9fNJ5",
        "outputId": "2cde3c58-1a61-41d7-c70a-675d05cfe505"
      },
      "source": [
        "rf = RandomForestClassifier(n_estimators=50)\n",
        "rf.fit(X_train_vect, y_train)\n",
        "\n",
        "yrf_pred = rf.predict(X_test_vect)\n",
        "\n",
        "print(\"Accuracy: {:.2f}%\".format(accuracy_score(y_test, yrf_pred) * 100))\n",
        "print(\"\\nF1 Score: {:.2f}\".format(f1_score(y_test, yrf_pred, average='micro') * 100))\n",
        "print(\"\\nCOnfusion Matrix:\\n\", confusion_matrix(y_test, yrf_pred))\n",
        "\n",
        "plot_confusion_matrix(y_test, yrf_pred, classes=class_names, normalize=True, title='Normalized confusion matrix')\n",
        "plt.show()"
      ],
      "execution_count": 35,
      "outputs": [
        {
          "output_type": "stream",
          "name": "stdout",
          "text": [
            "Accuracy: 63.40%\n",
            "\n",
            "F1 Score: 63.40\n",
            "\n",
            "COnfusion Matrix:\n",
            " [[398  83  57  81  74]\n",
            " [ 78 434  64  56  47]\n",
            " [ 85  57 421 103  41]\n",
            " [ 35  19  50 508  26]\n",
            " [ 91  71  70  54 390]]\n"
          ]
        },
        {
          "output_type": "display_data",
          "data": {
            "image/png": "[encoded data removed]",
            "text/plain": [
              "<Figure size 900x540 with 2 Axes>"
            ]
          },
          "metadata": {
            "needs_background": "light"
          }
        }
      ]
    },
    {
      "cell_type": "markdown",
      "metadata": {
        "id": "bp5QysxkfNJ8"
      },
      "source": [
        "###  Logistic Regression"
      ]
    },
    {
      "cell_type": "code",
      "metadata": {
        "colab": {
          "base_uri": "https://localhost:8080/",
          "height": 719
        },
        "id": "q6tMB-yJfNJ9",
        "outputId": "1449f5e5-09ae-486f-a7cd-54f58faec66c"
      },
      "source": [
        "log = LogisticRegression(solver='lbfgs', multi_class='auto', max_iter=200)\n",
        "log.fit(X_train_vect, y_train)\n",
        "\n",
        "ylog_pred = log.predict(X_test_vect)\n",
        "\n",
        "print(\"Accuracy: {:.2f}%\".format(accuracy_score(y_test, ylog_pred) * 100))\n",
        "print(\"\\nF1 Score: {:.2f}\".format(f1_score(y_test, ylog_pred, average='micro') * 100))\n",
        "print(\"\\nCOnfusion Matrix:\\n\", confusion_matrix(y_test, ylog_pred))\n",
        "\n",
        "plot_confusion_matrix(y_test, ylog_pred, classes=class_names, normalize=True, title='Normalized confusion matrix')\n",
        "plt.show()"
      ],
      "execution_count": 36,
      "outputs": [
        {
          "output_type": "stream",
          "name": "stdout",
          "text": [
            "Accuracy: 69.35%\n",
            "\n",
            "F1 Score: 69.35\n",
            "\n",
            "COnfusion Matrix:\n",
            " [[456  67  44  68  58]\n",
            " [ 65 483  42  50  39]\n",
            " [ 56  34 476 101  40]\n",
            " [ 41  23  42 498  34]\n",
            " [ 82  60  51  43 440]]\n"
          ]
        },
        {
          "output_type": "display_data",
          "data": {
            "image/png": "[encoded data removed]",
            "text/plain": [
              "<Figure size 900x540 with 2 Axes>"
            ]
          },
          "metadata": {
            "needs_background": "light"
          }
        }
      ]
    },
    {
      "cell_type": "markdown",
      "metadata": {
        "id": "yPVZ9QhufNKA"
      },
      "source": [
        "###  Linear Support Vector"
      ]
    },
    {
      "cell_type": "code",
      "metadata": {
        "colab": {
          "base_uri": "https://localhost:8080/",
          "height": 719
        },
        "id": "_CmBmIekfNKB",
        "outputId": "ce4c4f03-a718-4972-ad98-f31124556158"
      },
      "source": [
        "svc = LinearSVC(tol=1e-05)\n",
        "svc.fit(X_train_vect, y_train)\n",
        "\n",
        "ysvm_pred = svc.predict(X_test_vect)\n",
        "\n",
        "print(\"Accuracy: {:.2f}%\".format(accuracy_score(y_test, ysvm_pred) * 100))\n",
        "print(\"\\nF1 Score: {:.2f}\".format(f1_score(y_test, ysvm_pred, average='micro') * 100))\n",
        "print(\"\\nCOnfusion Matrix:\\n\", confusion_matrix(y_test, ysvm_pred))\n",
        "\n",
        "plot_confusion_matrix(y_test, ysvm_pred, classes=class_names, normalize=True, title='Normalized confusion matrix')\n",
        "plt.show()"
      ],
      "execution_count": 37,
      "outputs": [
        {
          "output_type": "stream",
          "name": "stdout",
          "text": [
            "Accuracy: 72.71%\n",
            "\n",
            "F1 Score: 72.71\n",
            "\n",
            "COnfusion Matrix:\n",
            " [[490  49  41  58  55]\n",
            " [ 53 508  34  40  44]\n",
            " [ 50  33 498  91  35]\n",
            " [ 34  23  38 505  38]\n",
            " [ 72  43  53  42 466]]\n"
          ]
        },
        {
          "output_type": "display_data",
          "data": {
            "image/png": "[encoded data removed]",
            "text/plain": [
              "<Figure size 900x540 with 2 Axes>"
            ]
          },
          "metadata": {
            "needs_background": "light"
          }
        }
      ]
    },
    {
      "cell_type": "markdown",
      "metadata": {
        "id": "sUbRPakafNKC"
      },
      "source": [
        "## 4. Saving the tf-idf + SVM Model \n"
      ]
    },
    {
      "cell_type": "code",
      "metadata": {
        "id": "izXYg9IXfNKE"
      },
      "source": [
        "#Create pipeline with our tf-idf vectorizer and LinearSVC model\n",
        "svm_model = Pipeline([\n",
        "    ('tfidf', vect),\n",
        "    ('clf', svc),\n",
        "])"
      ],
      "execution_count": 38,
      "outputs": []
    },
    {
      "cell_type": "code",
      "metadata": {
        "id": "Bx8o-fyifNKH"
      },
      "source": [
        "# save the model\n",
        "filename = '/content/tfidf_svm.sav'\n",
        "pickle.dump(svm_model, open(filename, 'wb'))"
      ],
      "execution_count": 39,
      "outputs": []
    },
    {
      "cell_type": "code",
      "metadata": {
        "colab": {
          "base_uri": "https://localhost:8080/"
        },
        "id": "bc7_OYMHfNKI",
        "outputId": "43cb666d-6332-4ad8-94c1-d17c998cea51"
      },
      "source": [
        "model = pickle.load(open(filename, 'rb'))\n",
        "\n",
        "message = 'delivery was hour late and my pizza is cold!' \n",
        "model.predict([message])"
      ],
      "execution_count": 40,
      "outputs": [
        {
          "output_type": "execute_result",
          "data": {
            "text/plain": [
              "array(['anger'], dtype=object)"
            ]
          },
          "metadata": {},
          "execution_count": 40
        }
      ]
    },
    {
      "cell_type": "code",
      "metadata": {
        "colab": {
          "base_uri": "https://localhost:8080/"
        },
        "id": "hrFDrChjfNKJ",
        "outputId": "114b1dab-b431-4e46-c09a-46dfe4a0bbc2"
      },
      "source": [
        "model = pickle.load(open(filename, 'rb'))\n",
        "\n",
        "message = 'I was just robbed!' \n",
        "model.predict([message])"
      ],
      "execution_count": 41,
      "outputs": [
        {
          "output_type": "execute_result",
          "data": {
            "text/plain": [
              "array(['fear'], dtype=object)"
            ]
          },
          "metadata": {},
          "execution_count": 41
        }
      ]
    },
    {
      "cell_type": "code",
      "metadata": {
        "colab": {
          "base_uri": "https://localhost:8080/"
        },
        "id": "E2EAODx4fNKM",
        "outputId": "becdc920-47f3-46f6-e2eb-1601663ffbda"
      },
      "source": [
        "model = pickle.load(open(filename, 'rb'))\n",
        "\n",
        "message = 'For what?' \n",
        "model.predict([message])"
      ],
      "execution_count": 42,
      "outputs": [
        {
          "output_type": "execute_result",
          "data": {
            "text/plain": [
              "array(['neutral'], dtype=object)"
            ]
          },
          "metadata": {},
          "execution_count": 42
        }
      ]
    },
    {
      "cell_type": "code",
      "metadata": {
        "id": "Y-uBLZQcfNKN",
        "colab": {
          "base_uri": "https://localhost:8080/"
        },
        "outputId": "a5c61e13-767b-4076-d6fa-3301c710795e"
      },
      "source": [
        "model = pickle.load(open(filename, 'rb'))\n",
        "\n",
        "message = 'This is it' \n",
        "model.predict([message])"
      ],
      "execution_count": 43,
      "outputs": [
        {
          "output_type": "execute_result",
          "data": {
            "text/plain": [
              "array(['neutral'], dtype=object)"
            ]
          },
          "metadata": {},
          "execution_count": 43
        }
      ]
    },
    {
      "cell_type": "code",
      "metadata": {
        "colab": {
          "base_uri": "https://localhost:8080/"
        },
        "id": "70rZ7fcWBQUU",
        "outputId": "70828e2b-aac3-4c8c-bc0c-6a6c2e98f075"
      },
      "source": [
        "!pip install flask-ngrok"
      ],
      "execution_count": 45,
      "outputs": [
        {
          "output_type": "stream",
          "name": "stdout",
          "text": [
            "Requirement already satisfied: flask-ngrok in /usr/local/lib/python3.7/dist-packages (0.0.25)\n",
            "Requirement already satisfied: Flask>=0.8 in /usr/local/lib/python3.7/dist-packages (from flask-ngrok) (1.1.4)\n",
            "Requirement already satisfied: requests in /usr/local/lib/python3.7/dist-packages (from flask-ngrok) (2.23.0)\n",
            "Requirement already satisfied: Werkzeug<2.0,>=0.15 in /usr/local/lib/python3.7/dist-packages (from Flask>=0.8->flask-ngrok) (1.0.1)\n",
            "Requirement already satisfied: Jinja2<3.0,>=2.10.1 in /usr/local/lib/python3.7/dist-packages (from Flask>=0.8->flask-ngrok) (2.11.3)\n",
            "Requirement already satisfied: click<8.0,>=5.1 in /usr/local/lib/python3.7/dist-packages (from Flask>=0.8->flask-ngrok) (7.1.2)\n",
            "Requirement already satisfied: itsdangerous<2.0,>=0.24 in /usr/local/lib/python3.7/dist-packages (from Flask>=0.8->flask-ngrok) (1.1.0)\n",
            "Requirement already satisfied: MarkupSafe>=0.23 in /usr/local/lib/python3.7/dist-packages (from Jinja2<3.0,>=2.10.1->Flask>=0.8->flask-ngrok) (2.0.1)\n",
            "Requirement already satisfied: chardet<4,>=3.0.2 in /usr/local/lib/python3.7/dist-packages (from requests->flask-ngrok) (3.0.4)\n",
            "Requirement already satisfied: urllib3!=1.25.0,!=1.25.1,<1.26,>=1.21.1 in /usr/local/lib/python3.7/dist-packages (from requests->flask-ngrok) (1.24.3)\n",
            "Requirement already satisfied: idna<3,>=2.5 in /usr/local/lib/python3.7/dist-packages (from requests->flask-ngrok) (2.10)\n",
            "Requirement already satisfied: certifi>=2017.4.17 in /usr/local/lib/python3.7/dist-packages (from requests->flask-ngrok) (2021.5.30)\n"
          ]
        }
      ]
    },
    {
      "cell_type": "code",
      "metadata": {
        "id": "o-RZoXduEk9q",
        "colab": {
          "base_uri": "https://localhost:8080/"
        },
        "outputId": "24c03534-bd67-44da-9627-b3fecfd9c189"
      },
      "source": [
        "from flask import Flask, flash, request, redirect, url_for, render_template\n",
        "import urllib.request\n",
        "from flask_ngrok import run_with_ngrok\n",
        "import os\n",
        "from werkzeug.utils import secure_filename\n",
        "\n",
        "#######\n",
        "import speech_recognition as sr\n",
        "\n",
        "#####\n",
        "\n",
        "template_dir = os.path.abspath('/content/templates/')\n",
        " \n",
        "app = Flask(__name__, template_folder=template_dir)\n",
        "run_with_ngrok(app)\n",
        "\n",
        "print('getcwd:      ', os.getcwd())\n",
        "\n",
        " \n",
        "UPLOAD_FOLDER = '/content'\n",
        " \n",
        "app.secret_key = \"secret key\"\n",
        "app.config['UPLOAD_FOLDER'] = UPLOAD_FOLDER\n",
        "app.config['MAX_CONTENT_LENGTH'] = 16 * 1024 * 1024\n",
        " \n",
        "ALLOWED_EXTENSIONS = set(['wav'])\n",
        " \n",
        "def allowed_file(filename):\n",
        "    return '.' in filename and filename.rsplit('.', 1)[1].lower() in ALLOWED_EXTENSIONS\n",
        "     \n",
        " \n",
        "@app.route('/')\n",
        "def home():\n",
        "    return render_template('index.html')\n",
        " \n",
        "@app.route('/', methods=['POST'])\n",
        "def upload_image():\n",
        "    if 'file' not in request.files:\n",
        "        flash('No file part')\n",
        "        return redirect(request.url)\n",
        "    file = request.files['file']\n",
        "    if file.filename == '':\n",
        "        flash('No audio file selected for uploading')\n",
        "        return redirect(request.url)\n",
        "    if file and allowed_file(file.filename):\n",
        "        filename1 = secure_filename(file.filename)\n",
        "        file.save(os.path.join(app.config['UPLOAD_FOLDER'], filename1))\n",
        "        #print('upload_image filename: ' + filename)\n",
        "        flash('Audio file successfully uploaded and processed')\n",
        "\n",
        "        #####\n",
        "        r= sr.Recognizer()\n",
        "\n",
        "        recording=sr.AudioFile('/content/' + filename1)\n",
        "\n",
        "        with recording as source:\n",
        "                audio= r.record(source)\n",
        "\n",
        "\n",
        "        str=r.recognize_google(audio)\n",
        "        print(str)\n",
        "\n",
        "        model = pickle.load(open(filename, 'rb'))\n",
        "        emotion = model.predict([str])[0]\n",
        "        #return \"<h1>The emotion is : \" + emotion\n",
        "        #####\n",
        "        return render_template('index.html', emotion=emotion, str=str)\n",
        "\n",
        "        #return render_template('index.html', filename=filename)\n",
        "    else:\n",
        "        flash('Allowed audio types are - wav')\n",
        "        return redirect(request.url)\n",
        " \n",
        "@app.route('/display/<filename>')\n",
        "def display_image(filename):\n",
        "    #print('display_image filename: ' + filename)\n",
        "    return redirect(url_for('static', filename='uploads/' + filename), code=301)\n",
        " \n",
        "if __name__ == \"__main__\":\n",
        "    app.run()"
      ],
      "execution_count": 49,
      "outputs": [
        {
          "output_type": "stream",
          "name": "stdout",
          "text": [
            "getcwd:       /content\n",
            " * Serving Flask app \"__main__\" (lazy loading)\n",
            " * Environment: production\n",
            "\u001b[31m   WARNING: This is a development server. Do not use it in a production deployment.\u001b[0m\n",
            "\u001b[2m   Use a production WSGI server instead.\u001b[0m\n",
            " * Debug mode: off\n"
          ]
        },
        {
          "output_type": "stream",
          "name": "stderr",
          "text": [
            " * Running on http://127.0.0.1:5000/ (Press CTRL+C to quit)\n"
          ]
        },
        {
          "output_type": "stream",
          "name": "stdout",
          "text": [
            " * Running on http://ede3-34-73-209-32.ngrok.io\n",
            " * Traffic stats available on http://127.0.0.1:4040\n"
          ]
        },
        {
          "output_type": "stream",
          "name": "stderr",
          "text": [
            "127.0.0.1 - - [30/Sep/2021 16:27:33] \"\u001b[37mGET / HTTP/1.1\u001b[0m\" 200 -\n",
            "127.0.0.1 - - [30/Sep/2021 16:27:34] \"\u001b[33mGET /favicon.ico HTTP/1.1\u001b[0m\" 404 -\n",
            "127.0.0.1 - - [30/Sep/2021 16:27:34] \"\u001b[37mGET / HTTP/1.1\u001b[0m\" 200 -\n",
            "127.0.0.1 - - [30/Sep/2021 16:27:58] \"\u001b[37mPOST / HTTP/1.1\u001b[0m\" 200 -\n"
          ]
        },
        {
          "output_type": "stream",
          "name": "stdout",
          "text": [
            "hello good morning nice to meet you I'm so happy today\n"
          ]
        }
      ]
    }
  ]
}